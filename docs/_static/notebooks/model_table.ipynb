{
 "cells": [
  {
   "cell_type": "code",
   "execution_count": 1,
   "metadata": {},
   "outputs": [],
   "source": [
    "%load_ext autoreload\n",
    "%autoreload 2"
   ]
  },
  {
   "cell_type": "code",
   "execution_count": 2,
   "metadata": {},
   "outputs": [],
   "source": [
    "%config InlineBackend.figure_format = \"retina\"\n",
    "\n",
    "import numpy as np\n",
    "import xarray as xr\n",
    "import sys,os,glob\n",
    "import matplotlib.pyplot as plt\n",
    "from matplotlib.colors import LogNorm\n",
    "\n",
    "sys.path.insert(0,'../../../')\n",
    "\n",
    "from matplotlib import rcParams\n",
    "plt.style.use(['fivethirtyeight','../../../twind/wind-paper.mplstyle'])\n",
    "rcParams[\"savefig.dpi\"] = 200\n",
    "rcParams[\"figure.dpi\"] = 200\n",
    "\n",
    "import warnings\n",
    "\n",
    "warnings.simplefilter(\"ignore\")"
   ]
  },
  {
   "cell_type": "markdown",
   "metadata": {},
   "source": [
    "# Simulation Model Tables \n",
    "\n",
    "We construct model PDFs based on the results from the TIGRESS simulation suite presented in [Paper I](https://ui.adsabs.harvard.edu/abs/2020ApJ...900...61K/abstract). We summarize model parameters and some integrated outflow propertes here using table files made available at [zenodo](https://doi.org/10.5281/zenodo.3872048) or [github](https://github.com/changgoo/tigress-wind-figureset/tree/v1.0.1). Mainly, the results are phase separated (three large bins in temperature or $c_s$) but outflow velocity integrated ($v_{\\rm out}>0$). \n",
    "\n",
    "You can download the original [notebook](changgoo/tigress-wind-figureset/blob/master/tables/Example_scripts.ipynb) to reproduce tables and figures in [Paper I](https://ui.adsabs.harvard.edu/abs/2020ApJ...900...61K/abstract)."
   ]
  },
  {
   "cell_type": "markdown",
   "metadata": {},
   "source": [
    "## Download and Prepare Tables "
   ]
  },
  {
   "cell_type": "code",
   "execution_count": 3,
   "metadata": {},
   "outputs": [],
   "source": [
    "# Download Tables\n",
    "import urllib.request\n",
    "import os\n",
    "\n",
    "repo_url='https://changgoo.github.io/tigress-wind-figureset'\n",
    "tbl_files=['table-mean.ecsv','table-mean-err.ecsv']\n",
    "if not os.path.isdir('tables/'): os.mkdir('tables/')\n",
    "for f in tbl_files:\n",
    "    if not os.path.isfile(f):\n",
    "        urllib.request.urlretrieve('{}/tables/{}'.format(repo_url,f),'tables/'+f)"
   ]
  },
  {
   "cell_type": "code",
   "execution_count": 4,
   "metadata": {},
   "outputs": [],
   "source": [
    "# Read Tables with astropy:\n",
    "\n",
    "from astropy.table import QTable,Table\n",
    "tmean=Table.read('tables/table-mean.ecsv')\n",
    "terr=Table.read('tables/table-mean-err.ecsv')"
   ]
  },
  {
   "cell_type": "code",
   "execution_count": 5,
   "metadata": {},
   "outputs": [],
   "source": [
    "# add additional time scales for Table 2 in Paper I\n",
    "import astropy.constants as ac\n",
    "import astropy.units as au\n",
    "tmean['torb']=(2*np.pi/tmean['Omega_0'].quantity).to('Myr')\n",
    "tmean['tosca']=(2*np.pi/np.sqrt(4*np.pi*ac.G*tmean['rho_tot'].quantity)).to('Myr')\n",
    "tmean['toscn']=(2.0*np.pi*tmean['H'].quantity/tmean['sigma_eff'].quantity).to('Myr')\n",
    "\n",
    "\n",
    "# set format for more compact display\n",
    "for k in tmean.keys():\n",
    "    if tmean[k].info.dtype == 'float64':\n",
    "        tmean[k].info.format = '15.2g'\n",
    "        if k in terr: terr[k].info.format = '15.2g'"
   ]
  },
  {
   "cell_type": "markdown",
   "metadata": {},
   "source": [
    "## Table 1: Model Parameters"
   ]
  },
  {
   "cell_type": "code",
   "execution_count": 6,
   "metadata": {},
   "outputs": [
    {
     "name": "stdout",
     "output_type": "stream",
     "text": [
      "model    Sigma_gas0      Sigma_star        rho_dm         Omega_0          z_star           R_0      \n",
      "       solMass / pc2   solMass / pc2   solMass / pc3    km / (kpc s)         pc             kpc      \n",
      "----- --------------- --------------- --------------- --------------- --------------- ---------------\n",
      "   R2             150             450            0.08             100             245               2\n",
      "   R4              50             208           0.024            53.7             245               4\n",
      "   R8              12              42          0.0064              28             245               8\n",
      "  R16            2.49            1.71         0.00143            11.9             245              16\n",
      " LGR2             150             110           0.015              50             500               2\n",
      " LGR4              60              50           0.005              30             500               4\n",
      " LGR8              12              10          0.0016              15             500               8\n"
     ]
    }
   ],
   "source": [
    "table1_varlist=['model','Sigma_gas0','Sigma_star','rho_dm','Omega_0','z_star','R_0']\n",
    "for k in table1_varlist:\n",
    "    if tmean[k].info.dtype == 'float64':\n",
    "        tmean[k].info.format = '15.3g'\n",
    "\n",
    "tbl1=tmean[(tmean['z']=='H') & (tmean['phase']=='whole') ][table1_varlist]\n",
    "\n",
    "tbl1.pprint_all()"
   ]
  },
  {
   "cell_type": "markdown",
   "metadata": {},
   "source": [
    "- **Sigma_gas0**: initial gas surface density, $\\Sigma_\\text{gas,0}$\n",
    "- **Sigma_star**: stellar surface density, $\\Sigma_{*}$\n",
    "- **rho_dm**: midplane dark matter density, $\\rho_\\text{dm}$ \n",
    "- **Omega**: angular velocity of galactic rotation, $\\Omega$ \n",
    "- **R_0**: galactocentric radius, $R_0$ \n",
    "- **z_star**: scale height of stellar disk, $z_*$ "
   ]
  },
  {
   "cell_type": "markdown",
   "metadata": {},
   "source": [
    "## Table 2: Time Scales "
   ]
  },
  {
   "cell_type": "code",
   "execution_count": 7,
   "metadata": {},
   "outputs": [
    {
     "name": "stdout",
     "output_type": "stream",
     "text": [
      "model       torb           toscn           tosca           tdep40           surf             sfr40       \n",
      "            Myr             Myr             Myr             Myr        solMass / pc2  solMass / (kpc2 yr)\n",
      "----- --------------- --------------- --------------- --------------- --------------- -------------------\n",
      "   R2              61              32              23              66              74                 1.1\n",
      "   R4         1.1e+02              51              38         2.4e+02              29                0.12\n",
      "   R8         2.2e+02         1.2e+02              75         2.1e+03              11              0.0051\n",
      "  R16         5.2e+02         4.6e+02         3.1e+02         3.1e+04             2.5               8e-05\n",
      " LGR2         1.2e+02              52              48         1.5e+02              74                0.49\n",
      " LGR4           2e+02              87              80         4.2e+02              38                0.09\n",
      " LGR8         4.1e+02         2.2e+02         1.7e+02         3.3e+03              10              0.0032\n"
     ]
    }
   ],
   "source": [
    "table2_varlist=['model','torb','toscn','tosca','tdep40','surf','sfr40']\n",
    "tbl2=tmean[(tmean['z']=='H') & (tmean['phase']=='whole') ][table2_varlist]\n",
    "\n",
    "tbl2.pprint_all()"
   ]
  },
  {
   "cell_type": "markdown",
   "metadata": {},
   "source": [
    "- **torb**: orbit time, $t_\\text{orb}=2\\pi/\\Omega$\n",
    "- **toscn**: vertical oscillation time derived from numerical measures, $t_\\text{osc,n}=2\\pi H/\\sigma_{\\rm z,eff}$\n",
    "- **tosca**: vertical oscillation time derived from input parameters, $t_\\text{osc,a}=2\\pi/(4\\pi G\\rho_{\\rm tot})^{1/2}$\n",
    "- **tdep40**: gas depletion time with SFR surface density in 40 Myr, $t_\\text{dep,40}=\\Sigma_\\text{gas}/\\Sigma_\\text{SFR,40}$\n",
    "- **surf**: mean gas surface density, $\\Sigma_\\text{gas}$\n",
    "- **sfr40**: mean SFR surface density from star particles young than 40 Myr, $\\Sigma_\\text{SFR,40}$\n",
    "\n",
    "_mean and error are determined from bootstrap resampling with a sample size of 10 for time series over_ $0.5<t/t_{\\rm orb}<1.5$"
   ]
  },
  {
   "cell_type": "markdown",
   "metadata": {},
   "source": [
    "## Table 3-1: Fluxes"
   ]
  },
  {
   "cell_type": "code",
   "execution_count": 8,
   "metadata": {},
   "outputs": [
    {
     "name": "stdout",
     "output_type": "stream",
     "text": [
      "model phase         mass                  mom                 energy            metal              metal_sn     \n",
      "            solMass / (kpc2 yr) km solMass / (kpc2 s yr) erg / (kpc2 yr) solMass / (kpc2 yr) solMass / (kpc2 yr)\n",
      "----- ----- ------------------- ------------------------ --------------- ------------------- -------------------\n",
      "   R2  cool                0.74                       50         7.2e+46               0.029              0.0032\n",
      "   R2   int               0.063                       10         2.8e+46              0.0026             0.00056\n",
      "   R2   hot                0.13                  1.4e+02         2.8e+48              0.0096              0.0062\n",
      "   R2 whole                0.94                    2e+02         2.9e+48               0.041                0.01\n",
      "   R4  cool                0.26                       12           1e+46              0.0081             0.00042\n",
      "   R4   int               0.014                      1.8         4.1e+45             0.00047             7.1e-05\n",
      "   R4   hot               0.026                       18         2.2e+47              0.0013             0.00058\n",
      "   R4 whole                 0.3                       32         2.3e+47              0.0098               0.001\n",
      "   R8  cool               0.032                     0.78         4.4e+44             0.00071             2.1e-05\n",
      "   R8   int              0.0012                     0.12         2.3e+44             2.9e-05             2.9e-06\n",
      "   R8   hot              0.0013                     0.67         5.5e+45             4.1e-05             1.5e-05\n",
      "   R8 whole               0.035                      1.6         6.2e+45             0.00078             3.8e-05\n",
      "  R16  cool              0.0055                    0.085         2.3e+43             0.00011             2.5e-09\n",
      "  R16   int             3.6e-05                   0.0028         3.7e+42             7.7e-07             5.2e-08\n",
      "  R16   hot             1.4e-05                   0.0093         6.1e+43             4.4e-07             1.8e-07\n",
      "  R16 whole              0.0055                    0.097         8.8e+43             0.00011             8.4e-08\n",
      " LGR2  cool                0.55                       26         2.8e+46               0.018              0.0015\n",
      " LGR2   int               0.026                      3.6         8.8e+45             0.00097             0.00019\n",
      " LGR2   hot               0.055                       48         6.8e+47              0.0033              0.0018\n",
      " LGR2 whole                0.63                       78         7.1e+47               0.023              0.0034\n",
      " LGR4  cool                0.45                       14         8.3e+45               0.012             0.00021\n",
      " LGR4   int                0.01                      1.2         2.5e+45              0.0003             3.7e-05\n",
      " LGR4   hot               0.015                       10         1.1e+47             0.00065             0.00028\n",
      " LGR4 whole                0.47                       25         1.2e+47               0.013             0.00048\n",
      " LGR8  cool                0.04                     0.86         3.6e+44             0.00087             7.9e-06\n",
      " LGR8   int             0.00074                    0.073         1.3e+44             1.7e-05             1.5e-06\n",
      " LGR8   hot             0.00089                     0.44         3.3e+45             2.7e-05             8.6e-06\n",
      " LGR8 whole               0.042                      1.4         3.8e+45             0.00092             1.8e-05\n"
     ]
    }
   ],
   "source": [
    "z0='H' # height can be ('H','2H','500','1000')\n",
    "table3_varlist1=['model','phase','mass','mom','energy','metal','metal_sn']\n",
    "tbl3=tmean[tmean['z']==z0][table3_varlist1]\n",
    "\n",
    "tbl3.pprint_all()"
   ]
  },
  {
   "cell_type": "markdown",
   "metadata": {},
   "source": [
    "- **mass**: mass flux, $\\overline{\\mathcal{F}}_M$\n",
    "- **mom**: momentum flux, $\\overline{\\mathcal{F}}_p$\n",
    "- **energy**: energy flux, $\\overline{\\mathcal{F}}_E$\n",
    "- **metal**: metal flux, $\\overline{\\mathcal{F}}_Z$\n",
    "- **metal_sn**: SN-origin metal flux, $\\overline{\\mathcal{F}}_Z^{SN}$ \n",
    "\n",
    "_mean and error are determined from bootstrap resampling with a sample size of 10 for time series over_ $0.5<t/t_{\\rm orb}<1.5$"
   ]
  },
  {
   "cell_type": "markdown",
   "metadata": {},
   "source": [
    "## Table 3-2: Loading Factors"
   ]
  },
  {
   "cell_type": "code",
   "execution_count": 9,
   "metadata": {},
   "outputs": [
    {
     "name": "stdout",
     "output_type": "stream",
     "text": [
      "model phase   mass_loading    mom_loading    energy_loading  metal_loading  metal_sn_loading\n",
      "                                                                                            \n",
      "----- ----- --------------- --------------- --------------- --------------- ----------------\n",
      "   R2  cool            0.68           0.035          0.0064             1.3             0.14\n",
      "   R2   int           0.058          0.0071          0.0025            0.11            0.025\n",
      "   R2   hot            0.12             0.1            0.24            0.42             0.27\n",
      "   R2 whole            0.86            0.14            0.25             1.8             0.44\n",
      "   R4  cool             2.2           0.075           0.008             3.2             0.17\n",
      "   R4   int            0.12           0.012          0.0032            0.19            0.028\n",
      "   R4   hot            0.22            0.12            0.17             0.5             0.23\n",
      "   R4 whole             2.5             0.2            0.18             3.9              0.4\n",
      "   R8  cool             6.3            0.12          0.0081             6.6             0.19\n",
      "   R8   int            0.24           0.018          0.0043            0.27            0.027\n",
      "   R8   hot            0.25           0.099             0.1            0.38             0.14\n",
      "   R8 whole             6.8            0.23            0.11             7.3             0.36\n",
      "  R16  cool              56            0.66           0.022              54           0.0012\n",
      "  R16   int            0.37           0.022          0.0036            0.38            0.025\n",
      "  R16   hot            0.14           0.072            0.06            0.22            0.087\n",
      "  R16 whole              56            0.75           0.086              55            0.041\n",
      " LGR2  cool             1.2           0.042          0.0056             1.9             0.15\n",
      " LGR2   int           0.054          0.0058          0.0018           0.098             0.02\n",
      " LGR2   hot            0.12           0.077            0.14            0.33             0.18\n",
      " LGR2 whole             1.3            0.13            0.14             2.3             0.35\n",
      " LGR4  cool               5            0.12          0.0088             6.2             0.11\n",
      " LGR4   int            0.11            0.01          0.0027            0.16             0.02\n",
      " LGR4   hot            0.17           0.085            0.11            0.35             0.15\n",
      " LGR4 whole             5.3            0.21            0.12             6.8             0.26\n",
      " LGR8  cool              12             0.2           0.011              13             0.12\n",
      " LGR8   int            0.23           0.017           0.004            0.26            0.022\n",
      " LGR8   hot            0.28             0.1           0.099             0.4             0.13\n",
      " LGR8 whole              13            0.32            0.11              14             0.27\n"
     ]
    }
   ],
   "source": [
    "z0='H' # height can be ('H','2H','500','1000')\n",
    "table3_varlist2=['model','phase','mass_loading','mom_loading',\n",
    "                 'energy_loading','metal_loading','metal_sn_loading',]\n",
    "tbl3=tmean[tmean['z']==z0][table3_varlist2]\n",
    "\n",
    "tbl3.pprint_all()"
   ]
  },
  {
   "cell_type": "markdown",
   "metadata": {},
   "source": [
    "- **mass_loading**: mass loading factor, $\\eta_M$\n",
    "- **mom_loading**: mom loading factor, $\\eta_p$\n",
    "- **energy_loading**: energy loading factor, $\\eta_E$\n",
    "- **metal_loading**: mass loading factor, $\\eta_Z$\n",
    "- **metal_sn_loading**: SN-origin metal loading factor, $\\eta_Z^{SN}$\n",
    "\n",
    "_mean and error are determined from bootstrap resampling with a sample size of 10 for time series over_ $0.5<t/t_{\\rm orb}<1.5$"
   ]
  },
  {
   "cell_type": "markdown",
   "metadata": {},
   "source": [
    "## Table 4: Velocities and Metals "
   ]
  },
  {
   "cell_type": "code",
   "execution_count": 10,
   "metadata": {},
   "outputs": [
    {
     "name": "stdout",
     "output_type": "stream",
     "text": [
      "model phase    vout_flux           vB              Z           enrichment       fmass_sn       fmetal_sn   \n",
      "                 km / s          km / s                                                                    \n",
      "----- ----- --------------- --------------- --------------- --------------- --------------- ---------------\n",
      "   R2  cool              69           1e+02           0.039             1.1           0.026            0.14\n",
      "   R2   int         1.4e+02         2.1e+02           0.042             1.2           0.044            0.21\n",
      "   R2   hot         5.8e+02         1.4e+03           0.072             2.1            0.23            0.63\n",
      "   R2 whole         1.6e+02         5.6e+02           0.044             1.3           0.059            0.27\n",
      "   R4  cool              47              67           0.032             1.1           0.011           0.068\n",
      "   R4   int         1.1e+02         1.6e+02           0.034             1.1           0.023            0.13\n",
      "   R4   hot         3.8e+02         8.2e+02           0.046             1.6           0.095             0.4\n",
      "   R4 whole           1e+02         3.2e+02           0.034             1.1           0.024            0.14\n",
      "   R8  cool              20              37           0.022               1          0.0035           0.032\n",
      "   R8   int              69         1.3e+02           0.024             1.1           0.012             0.1\n",
      "   R8   hot         2.4e+02           6e+02           0.031             1.4           0.054            0.34\n",
      "   R8 whole              34         1.4e+02           0.023             1.1          0.0066           0.057\n",
      "  R16  cool             7.9              20            0.02               1         7.3e-06         7.9e-05\n",
      "  R16   int              36              95           0.022             1.1          0.0063           0.071\n",
      "  R16   hot         1.3e+02         5.5e+02           0.032             1.6           0.051            0.37\n",
      "  R16 whole             8.4              32            0.02               1         6.3e-05         0.00068\n",
      " LGR2  cool              44              68           0.035             1.1           0.015           0.084\n",
      " LGR2   int         1.1e+02         1.8e+02           0.039             1.2           0.036            0.19\n",
      " LGR2   hot         4.2e+02           1e+03           0.057             1.8            0.15            0.51\n",
      " LGR2 whole              92         3.4e+02           0.038             1.2           0.031            0.16\n",
      " LGR4  cool              30              45           0.028               1          0.0046           0.032\n",
      " LGR4   int              92         1.5e+02            0.03             1.1           0.018            0.12\n",
      " LGR4   hot         3.1e+02         7.4e+02           0.041             1.5            0.08            0.38\n",
      " LGR4 whole              47         1.7e+02           0.028             1.1          0.0085           0.058\n",
      " LGR8  cool              13              26           0.022               1          0.0014           0.013\n",
      " LGR8   int              50         1.2e+02           0.024             1.1           0.014            0.11\n",
      " LGR8   hot         1.6e+02         4.6e+02           0.029             1.4           0.039            0.29\n",
      " LGR8 whole              17              72           0.022               1          0.0032           0.027\n"
     ]
    }
   ],
   "source": [
    "z0='H' # height can be ('H','2H','500','1000')\n",
    "\n",
    "table4_varlist=['model','phase','vout_flux','vB','Z','enrichment','fmass_sn','fmetal_sn']\n",
    "tbl4=tmean[tmean['z']==z0][table4_varlist]\n",
    "\n",
    "tbl4.pprint_all()"
   ]
  },
  {
   "cell_type": "markdown",
   "metadata": {},
   "source": [
    "- **vout_flux**: characteristic outflow velocity, $\\overline{v}_\\text{out}$\n",
    "- **vB**: Bernoulli velocity, $\\overline{v}_{\\mathcal{B}}$\n",
    "- **Z**: outflow metallicity, $\\overline{Z}$\n",
    "- **enrichment**: metal enrichment factor, $\\zeta$\n",
    "- **fmass_sn**: fraction of SN-origin mass flux, $f_M^{SN}$\n",
    "- **fmetal_sn**: fraction of SN-origin metal flux, $f_Z^{SN}$\n",
    "\n",
    "_mean and error are determined from bootstrap resampling with a sample size of 10 for time series over_ $0.5<t/t_{\\rm orb}<1.5$"
   ]
  }
 ],
 "metadata": {
  "kernelspec": {
   "display_name": "Python 3",
   "language": "python",
   "name": "python3"
  },
  "language_info": {
   "codemirror_mode": {
    "name": "ipython",
    "version": 3
   },
   "file_extension": ".py",
   "mimetype": "text/x-python",
   "name": "python",
   "nbconvert_exporter": "python",
   "pygments_lexer": "ipython3",
   "version": "3.7.3"
  }
 },
 "nbformat": 4,
 "nbformat_minor": 4
}
